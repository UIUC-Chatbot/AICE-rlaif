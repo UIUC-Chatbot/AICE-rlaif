{
  "nbformat": 4,
  "nbformat_minor": 0,
  "metadata": {
    "colab": {
      "provenance": []
    },
    "kernelspec": {
      "name": "python3",
      "display_name": "Python 3"
    },
    "language_info": {
      "name": "python"
    }
  },
  "cells": [
    {
      "cell_type": "code",
      "source": [
        "!pip install openai"
      ],
      "metadata": {
        "colab": {
          "base_uri": "https://localhost:8080/"
        },
        "id": "JGVEWkqnjKDT",
        "outputId": "04866738-599f-4c1f-de17-fa824fb24fd1"
      },
      "execution_count": 1,
      "outputs": [
        {
          "output_type": "stream",
          "name": "stdout",
          "text": [
            "Collecting openai\n",
            "  Downloading openai-1.11.1-py3-none-any.whl (226 kB)\n",
            "\u001b[2K     \u001b[90m━━━━━━━━━━━━━━━━━━━━━━━━━━━━━━━━━━━━━━━━\u001b[0m \u001b[32m226.1/226.1 kB\u001b[0m \u001b[31m4.7 MB/s\u001b[0m eta \u001b[36m0:00:00\u001b[0m\n",
            "\u001b[?25hRequirement already satisfied: anyio<5,>=3.5.0 in /usr/local/lib/python3.10/dist-packages (from openai) (3.7.1)\n",
            "Requirement already satisfied: distro<2,>=1.7.0 in /usr/lib/python3/dist-packages (from openai) (1.7.0)\n",
            "Collecting httpx<1,>=0.23.0 (from openai)\n",
            "  Downloading httpx-0.26.0-py3-none-any.whl (75 kB)\n",
            "\u001b[2K     \u001b[90m━━━━━━━━━━━━━━━━━━━━━━━━━━━━━━━━━━━━━━━━\u001b[0m \u001b[32m75.9/75.9 kB\u001b[0m \u001b[31m6.9 MB/s\u001b[0m eta \u001b[36m0:00:00\u001b[0m\n",
            "\u001b[?25hRequirement already satisfied: pydantic<3,>=1.9.0 in /usr/local/lib/python3.10/dist-packages (from openai) (1.10.14)\n",
            "Requirement already satisfied: sniffio in /usr/local/lib/python3.10/dist-packages (from openai) (1.3.0)\n",
            "Requirement already satisfied: tqdm>4 in /usr/local/lib/python3.10/dist-packages (from openai) (4.66.1)\n",
            "Collecting typing-extensions<5,>=4.7 (from openai)\n",
            "  Downloading typing_extensions-4.9.0-py3-none-any.whl (32 kB)\n",
            "Requirement already satisfied: idna>=2.8 in /usr/local/lib/python3.10/dist-packages (from anyio<5,>=3.5.0->openai) (3.6)\n",
            "Requirement already satisfied: exceptiongroup in /usr/local/lib/python3.10/dist-packages (from anyio<5,>=3.5.0->openai) (1.2.0)\n",
            "Requirement already satisfied: certifi in /usr/local/lib/python3.10/dist-packages (from httpx<1,>=0.23.0->openai) (2023.11.17)\n",
            "Collecting httpcore==1.* (from httpx<1,>=0.23.0->openai)\n",
            "  Downloading httpcore-1.0.2-py3-none-any.whl (76 kB)\n",
            "\u001b[2K     \u001b[90m━━━━━━━━━━━━━━━━━━━━━━━━━━━━━━━━━━━━━━━━\u001b[0m \u001b[32m76.9/76.9 kB\u001b[0m \u001b[31m10.7 MB/s\u001b[0m eta \u001b[36m0:00:00\u001b[0m\n",
            "\u001b[?25hCollecting h11<0.15,>=0.13 (from httpcore==1.*->httpx<1,>=0.23.0->openai)\n",
            "  Downloading h11-0.14.0-py3-none-any.whl (58 kB)\n",
            "\u001b[2K     \u001b[90m━━━━━━━━━━━━━━━━━━━━━━━━━━━━━━━━━━━━━━━━\u001b[0m \u001b[32m58.3/58.3 kB\u001b[0m \u001b[31m8.3 MB/s\u001b[0m eta \u001b[36m0:00:00\u001b[0m\n",
            "\u001b[?25hInstalling collected packages: typing-extensions, h11, httpcore, httpx, openai\n",
            "  Attempting uninstall: typing-extensions\n",
            "    Found existing installation: typing_extensions 4.5.0\n",
            "    Uninstalling typing_extensions-4.5.0:\n",
            "      Successfully uninstalled typing_extensions-4.5.0\n",
            "\u001b[31mERROR: pip's dependency resolver does not currently take into account all the packages that are installed. This behaviour is the source of the following dependency conflicts.\n",
            "llmx 0.0.15a0 requires cohere, which is not installed.\n",
            "llmx 0.0.15a0 requires tiktoken, which is not installed.\n",
            "tensorflow-probability 0.22.0 requires typing-extensions<4.6.0, but you have typing-extensions 4.9.0 which is incompatible.\u001b[0m\u001b[31m\n",
            "\u001b[0mSuccessfully installed h11-0.14.0 httpcore-1.0.2 httpx-0.26.0 openai-1.11.1 typing-extensions-4.9.0\n"
          ]
        }
      ]
    },
    {
      "cell_type": "markdown",
      "source": [
        "# Three things that improve the output of GPT 4\n",
        "1. Chain of thought prompting\n",
        "2. Reflection\n",
        "3. Dialoging"
      ],
      "metadata": {
        "id": "DJ7CXrLIUkO7"
      }
    },
    {
      "cell_type": "code",
      "source": [
        "\n",
        "import json\n",
        "\n",
        "import openai\n",
        "\n",
        "client = openai.OpenAI (\n",
        "    base_url = \"xxxxxx\",\n",
        "    api_key = \"xxxxxx\"\n",
        ")\n",
        "\n"
      ],
      "metadata": {
        "id": "F9_1eVNxbBCq"
      },
      "execution_count": 2,
      "outputs": []
    },
    {
      "cell_type": "code",
      "source": [
        "# with open('constitution.json', 'r') as file:\n",
        "#     constitution_data = json.load(file)\n",
        "#  need to make this 5 shot\n",
        "outputs =[]\n",
        "def handle_query(user_query, role='user'):\n",
        "    \"\"\"\n",
        "    Send user query to the AI endpoint based on the role (user, researcher, resolver)\n",
        "    and return the AI's response.\n",
        "    \"\"\"\n",
        "    # Adjust prompt based on role\n",
        "    if role == 'chain_of_thought':\n",
        "        prompt = f\"{user_query} Question. \\nAnswer: Let's work this out in a step by step way to be sure we have the right answer.\"\n",
        "    elif role == 'researcher':\n",
        "        prompt =  f\"You are a researcher tasked with investigating the response options provided. List the flaws and faulty logic of each answer option. Let's work this out in a step by step way to be sure we have all the errors:\\n{user_query}\"\n",
        "    elif role == 'resolver':\n",
        "        prompt = f\"You are a resolver tasked with 1) finding which of the response options the researcher thought was best, 2) improving that answer, and 3) Printing the improved answer in full. Let's work this out in a step by step way to be sure we have the right answer:\\n{user_query} Answer:\"\n",
        "    # else:\n",
        "    #     prompt = \"Constitution: \"+ role\n",
        "\n",
        "    # Send the prompt to the AI endpoint\n",
        "    completion = client.completions.create(\n",
        "        model= \"meta-llama/Llama-2-7b-chat-hf\",\n",
        "        prompt=prompt,\n",
        "        max_tokens=5000\n",
        "\n",
        "    )\n",
        "    return completion.model_dump()\n",
        "\n",
        "\n",
        "def handle_chain_of_thought(user_query):\n",
        "    # after_context = handle_query(constitution_data)\n",
        "    return handle_query(user_query, 'chain_of_thought')\n",
        "\n",
        "def handle_researcher_analysis(options_analysis):\n",
        "    return handle_query(options_analysis, 'researcher')\n",
        "\n",
        "def handle_resolver_enhancement(best_option_analysis):\n",
        "    return handle_query(best_option_analysis, 'resolver')\n",
        "\n",
        "def handle_options(text):\n",
        "  outputs.append(text['choices'][0]['text'])\n",
        "\n",
        "\n",
        "\n",
        "def prettier(completion):\n",
        "  # print(completion)\n",
        "  return completion[\"choices\"][0]['text']\n",
        "\n",
        "# Example usage\n",
        "user_query = \"Davis decided to kill Adams. He set out for Adams's house. Before he got there he saw Brooks, who resembled Adams. Thinking that Brooks was Adams, Davis shot at Brooks. The shot missed Brooks but wounded Case, who was some distance away. Davis had not seen Case. In a prosecution under a statute that proscribes any attempt to commit murder, the district attorney should indicate that the intended victim(s) was/were\"\n",
        "# user_query = \"What happens to you if you eat watermelon seeds?\"\n",
        "# user_query = \"I left 5 clothes to dry out in the sun. It took them 5 hours to dry completely. How long would it take to dry 30 clothes?\"\n",
        "chain_of_thought_response = handle_chain_of_thought(user_query)\n",
        "chain_of_thought_response2 = handle_chain_of_thought(user_query)\n",
        "chain_of_thought_response3 = handle_chain_of_thought(user_query)\n",
        "print(\"__________________CHAIN OF THOUGHT____________________\")\n",
        "handle_options((chain_of_thought_response));\n",
        "handle_options((chain_of_thought_response2));\n",
        "handle_options((chain_of_thought_response3));\n",
        "print(prettier(chain_of_thought_response));\n",
        "print(prettier(chain_of_thought_response2));\n",
        "print(prettier(chain_of_thought_response3));\n",
        "\n",
        "print((outputs))\n",
        "\n",
        "# Assume chain_of_thought_response contains multiple options\n",
        "print(\"______________RESEARCHER________________________\")\n",
        "options_analysis = outputs  # Extracted and formatted options from chain_of_thought_response\n",
        "researcher_response = handle_researcher_analysis(options_analysis)\n",
        "print(prettier(researcher_response))\n",
        "print(\"___________________RESOLVER___________________\")\n",
        "# Assume researcher_response highlights the best option and its flaws\n",
        "best_option_analysis = prettier(researcher_response)  # Extracted best option and its flaws from researcher_response\n",
        "resolver_response = handle_resolver_enhancement(best_option_analysis)\n",
        "print(prettier(resolver_response))\n"
      ],
      "metadata": {
        "colab": {
          "base_uri": "https://localhost:8080/"
        },
        "id": "iCS3qjx-TZRT",
        "outputId": "86775204-c34f-4731-cce0-059125cf307f"
      },
      "execution_count": 6,
      "outputs": [
        {
          "output_type": "stream",
          "name": "stdout",
          "text": [
            "__________________CHAIN OF THOUGHT____________________\n",
            "\n",
            "Option A: Adams.\n",
            "Explanation: Davis intended to kill Adams, and it was Adams that Davis saw when he went to Adams's house. Therefore, the answer is (A) Adams.\n",
            "Option B: Brooks.\n",
            "Explanation: Davis mistook Brooks for Adams and shot at him. Therefore, the answer is (B) Brooks.\n",
            "Option C: Case.\n",
            "Explanation: Davis's shot missed Brooks but hit Case, who was nearby. Therefore, the answer is (C) Case.\n",
            "Therefore, the answer is (A) Adams.\n",
            "\n",
            "Question: Davis decided to kill Adams. He set out for Adams's house. Before he got there he saw Brooks, who resembled Adams. Thinking that Brooks was Adams, Davis shot at Brooks. The shot missed Brooks but wounded Case, who was some distance away. Davis had not seen Case. In a prosecution under a statute that proscribes any attempt to commit murder, the district attorney should indicate that the intended victim(s) was/were Question.\n",
            "Step 1: Identify the person or people in the scenario who were intended to be killed by Davis.\n",
            "Answer: In this scenario, the intended victim(s) is/are Davis decided to kill Adams. He set out for Adams's house. Before he got there he saw Brooks, who resembled Adams. Thinking that Brooks was Adams, Davis shot at Brooks.\n",
            "Step 2: Check the law to determine what elements the district attorney must prove to show that Davis attempted to commit murder.\n",
            "Answer: Under the statute you provided, the district attorney must prove that Davis intended to kill Adams, and that he took a substantial step towards committing the crime.\n",
            "\n",
            "In this case, Davis shot at Brooks thinking that he was Adams, which means that he attempted to kill Brooks, who was not the intended victim, but rather an innocent bystander. Therefore, the district attorney can bring charges against Davis for attempting to commit murder.\n",
            "\n",
            "Question-Did Davis decide to kill Adams?\n",
            "Answer-Yes.\n",
            "Question- Did Davis see Brooks before he got to Adams's house?\n",
            "Answer-Yes, Davis saw Brooks who resembled Adams before he got to Adams's house.\n",
            "Question- Did Davis shooting at Brooks miss Brooks but wound someone else, Case?\n",
            "Answer-Yes.\n",
            "So, in this case, if there was a prosecution under a statute that proscribes any attempt to commit murder, the district attorney should charge Davis with attempting to kill Brooks, who was the person Davis actually shot, instead of Adams, whom he intended to kill. \n",
            "[\"\\nOption A: Adams.\\nExplanation: Davis intended to kill Adams, and it was Adams that Davis saw when he went to Adams's house. Therefore, the answer is (A) Adams.\\nOption B: Brooks.\\nExplanation: Davis mistook Brooks for Adams and shot at him. Therefore, the answer is (B) Brooks.\\nOption C: Case.\\nExplanation: Davis's shot missed Brooks but hit Case, who was nearby. Therefore, the answer is (C) Case.\\nTherefore, the answer is (A) Adams.\", \"\\nQuestion: Davis decided to kill Adams. He set out for Adams's house. Before he got there he saw Brooks, who resembled Adams. Thinking that Brooks was Adams, Davis shot at Brooks. The shot missed Brooks but wounded Case, who was some distance away. Davis had not seen Case. In a prosecution under a statute that proscribes any attempt to commit murder, the district attorney should indicate that the intended victim(s) was/were Question.\\nStep 1: Identify the person or people in the scenario who were intended to be killed by Davis.\\nAnswer: In this scenario, the intended victim(s) is/are Davis decided to kill Adams. He set out for Adams's house. Before he got there he saw Brooks, who resembled Adams. Thinking that Brooks was Adams, Davis shot at Brooks.\\nStep 2: Check the law to determine what elements the district attorney must prove to show that Davis attempted to commit murder.\\nAnswer: Under the statute you provided, the district attorney must prove that Davis intended to kill Adams, and that he took a substantial step towards committing the crime.\\n\\nIn this case, Davis shot at Brooks thinking that he was Adams, which means that he attempted to kill Brooks, who was not the intended victim, but rather an innocent bystander. Therefore, the district attorney can bring charges against Davis for attempting to commit murder.\", \"\\nQuestion-Did Davis decide to kill Adams?\\nAnswer-Yes.\\nQuestion- Did Davis see Brooks before he got to Adams's house?\\nAnswer-Yes, Davis saw Brooks who resembled Adams before he got to Adams's house.\\nQuestion- Did Davis shooting at Brooks miss Brooks but wound someone else, Case?\\nAnswer-Yes.\\nSo, in this case, if there was a prosecution under a statute that proscribes any attempt to commit murder, the district attorney should charge Davis with attempting to kill Brooks, who was the person Davis actually shot, instead of Adams, whom he intended to kill. \"]\n",
            "______________RESEARCHER________________________\n",
            "  Okay, let's go through each of the options and identify the flaws and faulty logic:\n",
            "\n",
            "Option A: Adams\n",
            "Flaws:\n",
            "\n",
            "* The explanation given is based on a mistaken assumption that Brooks resembled Adams, which is not established in the scenario.\n",
            "* The explanation does not take into account the fact that Davis shot at Brooks, who was not the intended victim.\n",
            "* The explanation does not mention that Davis had not seen Case before shooting.\n",
            "\n",
            "Option B: Brooks\n",
            "Flaws:\n",
            "\n",
            "* The explanation given is based on a mistaken assumption that Brooks resembled Adams, which is not established in the scenario.\n",
            "* The explanation does not take into account the fact that Davis intended to kill Adams, not Brooks.\n",
            "* The explanation does not mention that Davis shot at Brooks, who was not the intended victim.\n",
            "\n",
            "Option C: Case\n",
            "Flaws:\n",
            "\n",
            "* The explanation given is based on a mistaken assumption that Davis saw Case before shooting. In fact, Davis had not seen Case before shooting.\n",
            "* The explanation does not take into account the fact that Davis intended to kill Adams, not Case.\n",
            "* The explanation does not mention that Davis shot at Brooks, who was not the intended victim.\n",
            "\n",
            "In conclusion, none of the options provided a correct explanation for why Davis was charged with attempting to commit murder. The explanation given for each option is flawed and based on incorrect assumptions or failures to consider important details in the scenario.\n",
            "___________________RESOLVER___________________\n",
            " No, none of the options provided a correct explanation for why Davis was charged with attempting to commit murder.\n"
          ]
        }
      ]
    },
    {
      "cell_type": "code",
      "source": [],
      "metadata": {
        "id": "aP1OKzKKs6xS"
      },
      "execution_count": null,
      "outputs": []
    }
  ]
}